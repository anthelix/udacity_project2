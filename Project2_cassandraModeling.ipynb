{
 "cells": [
  {
   "cell_type": "markdown",
   "metadata": {},
   "source": [
    "<img alt=\"\" align=\"right\" width=\"150\" height=\"150\" src = \"./image/cassandraLogo.png\" title = \"cassandra logo\" alt = \"Cassandra logo\"> \n",
    "##### Udacity Data Engineering Nanodegree\n",
    "\n",
    "# Project 2 : Data Modeling with Cassandra\n",
    "  \n",
    "About ETL and event data modeling to create a non-relational database and ETL pipeline for a music streaming application. We define queries and tables for a database built using Apache Cassandra.   \n",
    "\n",
    "---"
   ]
  },
  {
   "cell_type": "markdown",
   "metadata": {},
   "source": [
    "# Part I. ETL Pipeline"
   ]
  },
  {
   "cell_type": "markdown",
   "metadata": {},
   "source": [
    "for Pre-Processing the Files"
   ]
  },
  {
   "cell_type": "markdown",
   "metadata": {},
   "source": [
    "#### Import Python packages "
   ]
  },
  {
   "cell_type": "code",
   "execution_count": 1,
   "metadata": {},
   "outputs": [
    {
     "ename": "ModuleNotFoundError",
     "evalue": "No module named 'cassandra'",
     "output_type": "error",
     "traceback": [
      "\u001b[0;31m---------------------------------------------------------------------------\u001b[0m",
      "\u001b[0;31mModuleNotFoundError\u001b[0m                       Traceback (most recent call last)",
      "\u001b[0;32m<ipython-input-1-29c3cc4e769c>\u001b[0m in \u001b[0;36m<module>\u001b[0;34m\u001b[0m\n\u001b[1;32m      1\u001b[0m \u001b[0;32mimport\u001b[0m \u001b[0mpandas\u001b[0m \u001b[0;32mas\u001b[0m \u001b[0mpd\u001b[0m\u001b[0;34m\u001b[0m\u001b[0;34m\u001b[0m\u001b[0m\n\u001b[0;32m----> 2\u001b[0;31m \u001b[0;32mimport\u001b[0m \u001b[0mcassandra\u001b[0m\u001b[0;34m\u001b[0m\u001b[0;34m\u001b[0m\u001b[0m\n\u001b[0m\u001b[1;32m      3\u001b[0m \u001b[0;32mimport\u001b[0m \u001b[0mre\u001b[0m\u001b[0;34m\u001b[0m\u001b[0;34m\u001b[0m\u001b[0m\n\u001b[1;32m      4\u001b[0m \u001b[0;32mimport\u001b[0m \u001b[0mos\u001b[0m\u001b[0;34m\u001b[0m\u001b[0;34m\u001b[0m\u001b[0m\n\u001b[1;32m      5\u001b[0m \u001b[0;32mimport\u001b[0m \u001b[0mglob\u001b[0m\u001b[0;34m\u001b[0m\u001b[0;34m\u001b[0m\u001b[0m\n",
      "\u001b[0;31mModuleNotFoundError\u001b[0m: No module named 'cassandra'"
     ]
    }
   ],
   "source": [
    "import pandas as pd\n",
    "import cassandra\n",
    "import re\n",
    "import os\n",
    "import glob\n",
    "import numpy as np\n",
    "import json\n",
    "import csv"
   ]
  },
  {
   "cell_type": "markdown",
   "metadata": {},
   "source": [
    "#### Creating list of filepaths to process original event csv data files"
   ]
  },
  {
   "cell_type": "code",
   "execution_count": 24,
   "metadata": {},
   "outputs": [],
   "source": [
    "# checking the current working directory\n",
    "#print(os.getcwd())\n",
    "\n",
    "# Get the current folder and subfolder event data\n",
    "filepath = os.getcwd() + '/event_data'\n",
    "#print('My path :')\n",
    "\n",
    "\n",
    "# Create a list of files and collect each filepath\n",
    "for root, dirs, files in os.walk(filepath):\n",
    "    \n",
    "# Join the file path and roots with the subdirectories using glob\n",
    "    file_path_list = glob.glob(os.path.join(root,'*'))\n",
    "    #print(file_path_list)"
   ]
  },
  {
   "cell_type": "markdown",
   "metadata": {},
   "source": [
    "#### Processing the files to create the data file csv that will be used for Apache Casssandra tables"
   ]
  },
  {
   "cell_type": "code",
   "execution_count": 25,
   "metadata": {},
   "outputs": [],
   "source": [
    "# initiating an empty list of rows that will be generated from each file\n",
    "full_data_rows_list = [] \n",
    "    \n",
    "# for every filepath in the file path list \n",
    "for f in file_path_list:\n",
    "\n",
    "# reading csv file \n",
    "    with open(f, 'r', encoding = 'utf8', newline='') as csvfile: \n",
    "        # creating a csv reader object \n",
    "        csvreader = csv.reader(csvfile) \n",
    "        next(csvreader)\n",
    "        \n",
    " # extracting each data row one by one and append it        \n",
    "        for line in csvreader:\n",
    "            #print(line)\n",
    "            full_data_rows_list.append(line) \n",
    "            \n",
    "# print(len(full_data_rows_list))"
   ]
  },
  {
   "cell_type": "code",
   "execution_count": 26,
   "metadata": {},
   "outputs": [],
   "source": [
    "#print(full_data_rows_list)\n",
    "\n",
    "# creating a smaller event data csv file that be used to insert data into the \\\n",
    "# Apache Cassandra tables\n",
    "csv.register_dialect('myDialect', quoting=csv.QUOTE_ALL, skipinitialspace=True)\n",
    "\n",
    "with open('event_datafile_new.csv', 'w', encoding = 'utf8', newline='') as f:\n",
    "    writer = csv.writer(f, dialect='myDialect')\n",
    "    writer.writerow(['artist','firstName','gender','itemInSession','lastName','length',\\\n",
    "                'level','location','sessionId','song','userId'])\n",
    "    for row in full_data_rows_list:\n",
    "        if (row[0] == ''):\n",
    "            continue\n",
    "        writer.writerow((row[0], row[2], row[3], row[4], row[5], row[6], row[7], row[8], row[12], row[13], row[16]))"
   ]
  },
  {
   "cell_type": "code",
   "execution_count": 27,
   "metadata": {},
   "outputs": [
    {
     "name": "stdout",
     "output_type": "stream",
     "text": [
      "6821\n"
     ]
    }
   ],
   "source": [
    "# check the number of rows in the csv file\n",
    "with open('event_datafile_new.csv', 'r', encoding = 'utf8') as f:\n",
    "    print(sum(1 for line in f))"
   ]
  },
  {
   "cell_type": "markdown",
   "metadata": {},
   "source": [
    "___"
   ]
  },
  {
   "cell_type": "markdown",
   "metadata": {},
   "source": [
    "# Part II. Apache Cassandra \n",
    "\n",
    "#### The event_datafile_new.csv contains the following columns: \n",
    "- artist \n",
    "- firstName of user\n",
    "- gender of user\n",
    "- item number in session\n",
    "- last name of user\n",
    "- length of the song\n",
    "- level (paid or free song)\n",
    "- location of the user\n",
    "- sessionId\n",
    "- song title\n",
    "- userId\n",
    "\n",
    "The image below is a screenshot of what the denormalized data should appear:  \n",
    "<img src=\"image/image_event_datafile_new.jpg\">"
   ]
  },
  {
   "cell_type": "markdown",
   "metadata": {},
   "source": [
    "#### Creating a Cluster"
   ]
  },
  {
   "cell_type": "code",
   "execution_count": 28,
   "metadata": {},
   "outputs": [],
   "source": [
    "# This should make a connection to a Cassandra instance the local machine \n",
    "# (127.0.0.1)\n",
    "\n",
    "from cassandra.cluster import Cluster\n",
    "cluster = Cluster()\n",
    "\n",
    "# To establish connection and begin executing queries\n",
    "session = cluster.connect()"
   ]
  },
  {
   "cell_type": "markdown",
   "metadata": {},
   "source": [
    "#### Create Keyspace"
   ]
  },
  {
   "cell_type": "code",
   "execution_count": 29,
   "metadata": {},
   "outputs": [
    {
     "data": {
      "text/plain": [
       "<cassandra.cluster.ResultSet at 0x7fa8225c66a0>"
      ]
     },
     "execution_count": 29,
     "metadata": {},
     "output_type": "execute_result"
    }
   ],
   "source": [
    "session.execute(\"\"\"\n",
    "CREATE KEYSPACE IF NOT EXISTS udacity\n",
    "WITH REPLICATION = \n",
    "{'class' : 'SimpleStrategy', 'replication_factor' : 1}\n",
    "\"\"\")"
   ]
  },
  {
   "cell_type": "markdown",
   "metadata": {},
   "source": [
    "#### Set Keyspace"
   ]
  },
  {
   "cell_type": "code",
   "execution_count": 30,
   "metadata": {},
   "outputs": [],
   "source": [
    "session.set_keyspace('udacity')"
   ]
  },
  {
   "cell_type": "markdown",
   "metadata": {},
   "source": [
    "### Create queries to ask the following three questions of the data\n",
    "\n",
    "#### 1. Give the artist, song title and song's length in the music app history that was heard during  sessionId = 338, and itemInSession  = 4\n",
    "\n",
    "\n",
    "#### 2. Give only the following: name of artist, song (sorted by itemInSession) and user (first and last name) for userid = 10, sessionid = 182\n",
    "    \n",
    "\n",
    "#### 3. Give every user name (first and last) in my music app history who listened to the song 'All Hands Against His Own'\n",
    "\n",
    "\n"
   ]
  },
  {
   "cell_type": "markdown",
   "metadata": {},
   "source": [
    "---"
   ]
  },
  {
   "cell_type": "markdown",
   "metadata": {},
   "source": [
    "## Query 1\n",
    "\n",
    "![quer1](./image/quer1.png)  \n",
    "**Query**: Give the artist, song title and song's length in the music app history that was heard during sessionId = 338 and itemInSession = 4.  \n",
    "\n",
    "**Reflexion**: As we search in `sessionId` and `itemInSession`,  they become the primary key. `itemInSession` as clustering key, create logical sets\n",
    "`artist`, `song` and `length` are what we looking for. "
   ]
  },
  {
   "cell_type": "code",
   "execution_count": 9,
   "metadata": {},
   "outputs": [],
   "source": [
    "query = \"CREATE TABLE IF NOT EXISTS song_by_session\"\n",
    "query = query + \"(sessionId INT, itemInSession INT, artist VARCHAR, song VARCHAR, length DECIMAL, PRIMARY KEY(sessionId, itemInSession))\"\n",
    "\n",
    "try:\n",
    "    session.execute(query)\n",
    "except Exception as e:\n",
    "    print(e)                   "
   ]
  },
  {
   "cell_type": "markdown",
   "metadata": {},
   "source": [
    "![Table](./image/query1_table.png)"
   ]
  },
  {
   "cell_type": "code",
   "execution_count": 10,
   "metadata": {},
   "outputs": [],
   "source": [
    "file = 'event_datafile_new.csv'\n",
    "\n",
    "with open(file, encoding = 'utf8') as f:\n",
    "    csvreader = csv.reader(f)\n",
    "    next(csvreader) # skip header\n",
    "    for line in csvreader:\n",
    "    # Assign the INSERT statements into the `query` variable\n",
    "        query = \"INSERT INTO song_by_session(sessionId, itemInSession, artist, song, length)\"\n",
    "        query = query + \"VALUES (%s, %s, %s, %s, %s)\"\n",
    "        # Assign which column element should be assigned for each column in the INSERT statement.\n",
    "        session.execute(query, (int(line[8]), int(line[3]), line[0], line[9], float(line[5])))"
   ]
  },
  {
   "cell_type": "code",
   "execution_count": 11,
   "metadata": {
    "scrolled": true
   },
   "outputs": [
    {
     "data": {
      "text/html": [
       "<style  type=\"text/css\" >\n",
       "</style><table id=\"T_d46f9d5c_41bc_11ea_9051_144f8a7a8532\" ><thead>    <tr>        <th class=\"col_heading level0 col0\" >artist</th>        <th class=\"col_heading level0 col1\" >song</th>        <th class=\"col_heading level0 col2\" >length</th>    </tr></thead><tbody>\n",
       "                <tr>\n",
       "                                <td id=\"T_d46f9d5c_41bc_11ea_9051_144f8a7a8532row0_col0\" class=\"data row0 col0\" >Faithless</td>\n",
       "                        <td id=\"T_d46f9d5c_41bc_11ea_9051_144f8a7a8532row0_col1\" class=\"data row0 col1\" >Music Matters (Mark Knight Dub)</td>\n",
       "                        <td id=\"T_d46f9d5c_41bc_11ea_9051_144f8a7a8532row0_col2\" class=\"data row0 col2\" >495.3073</td>\n",
       "            </tr>\n",
       "    </tbody></table>"
      ],
      "text/plain": [
       "<pandas.io.formats.style.Styler at 0x7fa82c5639b0>"
      ]
     },
     "execution_count": 11,
     "metadata": {},
     "output_type": "execute_result"
    }
   ],
   "source": [
    "## SELECT statement to verify the data was entered into the table as DataFrame\n",
    "query = \"SELECT artist, song, length FROM song_by_session WHERE sessionId = 338 AND itemInSession = 4\"\n",
    "try:\n",
    "    df = pd.DataFrame(list(session.execute(query)))\n",
    "except Exception as e:\n",
    "    print(e)\n",
    "    \n",
    "df[['artist', 'song', 'length']].style.hide_index()"
   ]
  },
  {
   "cell_type": "markdown",
   "metadata": {},
   "source": [
    "## Query 2\n",
    "![query2](./image/query2.png)\n",
    "**Query**: Give only the following: name of artist, song (sorted by itemInSession) and user (first and last name) for userid = 10, sessionid = 182\n",
    "\n",
    "**Reflexion**: As we search in `userId` and `sessionId`, they becomes the partition key and `itemInSession` the clustering key for sorted the `song`. `artist`, `song`, `fisrtName` and `lastName` are what we looking for. "
   ]
  },
  {
   "cell_type": "code",
   "execution_count": 31,
   "metadata": {},
   "outputs": [],
   "source": [
    "query = \"CREATE TABLE IF NOT EXISTS song_by_user\"\n",
    "query = query +\"(userId INT, sessionId INT, itemInSession INT, artist VARCHAR, song VARCHAR, firstName VARCHAR, lastName VARCHAR, PRIMARY KEY((userId, sessionId), itemInSession))\"\n",
    "\n",
    "try:\n",
    "    session.execute(query)\n",
    "except Exception as e:\n",
    "    print(e)                    "
   ]
  },
  {
   "cell_type": "markdown",
   "metadata": {},
   "source": [
    "![Table](./image/query2_table.png)"
   ]
  },
  {
   "cell_type": "code",
   "execution_count": 32,
   "metadata": {},
   "outputs": [],
   "source": [
    "file = 'event_datafile_new.csv'\n",
    "\n",
    "with open(file, encoding = 'utf8') as f:\n",
    "    csvreader = csv.reader(f)\n",
    "    next(csvreader) # skip header\n",
    "    for line in csvreader:\n",
    "    # Assign the INSERT statements into the `query` variable\n",
    "        query = \"INSERT INTO song_by_user(userId, sessionId, itemInSession, artist, song, firstName, lastName)\"\n",
    "        query = query + \"VALUES (%s, %s, %s, %s, %s, %s, %s)\"\n",
    "        # Assign which column element should be assigned for each column in the INSERT statement.\n",
    "        session.execute(query, (int(line[10]), int(line[8]), int(line[3]), line[0], line[9], line[1], line[4]))"
   ]
  },
  {
   "cell_type": "code",
   "execution_count": 36,
   "metadata": {},
   "outputs": [
    {
     "data": {
      "text/html": [
       "<style  type=\"text/css\" >\n",
       "</style><table id=\"T_4b45691a_41be_11ea_9051_144f8a7a8532\" ><thead>    <tr>        <th class=\"col_heading level0 col0\" >userid</th>        <th class=\"col_heading level0 col1\" >sessionid</th>        <th class=\"col_heading level0 col2\" >iteminsession</th>        <th class=\"col_heading level0 col3\" >song</th>    </tr></thead><tbody>\n",
       "                <tr>\n",
       "                                <td id=\"T_4b45691a_41be_11ea_9051_144f8a7a8532row0_col0\" class=\"data row0 col0\" >10</td>\n",
       "                        <td id=\"T_4b45691a_41be_11ea_9051_144f8a7a8532row0_col1\" class=\"data row0 col1\" >182</td>\n",
       "                        <td id=\"T_4b45691a_41be_11ea_9051_144f8a7a8532row0_col2\" class=\"data row0 col2\" >0</td>\n",
       "                        <td id=\"T_4b45691a_41be_11ea_9051_144f8a7a8532row0_col3\" class=\"data row0 col3\" >Keep On Keepin' On</td>\n",
       "            </tr>\n",
       "            <tr>\n",
       "                                <td id=\"T_4b45691a_41be_11ea_9051_144f8a7a8532row1_col0\" class=\"data row1 col0\" >10</td>\n",
       "                        <td id=\"T_4b45691a_41be_11ea_9051_144f8a7a8532row1_col1\" class=\"data row1 col1\" >182</td>\n",
       "                        <td id=\"T_4b45691a_41be_11ea_9051_144f8a7a8532row1_col2\" class=\"data row1 col2\" >1</td>\n",
       "                        <td id=\"T_4b45691a_41be_11ea_9051_144f8a7a8532row1_col3\" class=\"data row1 col3\" >Greece 2000</td>\n",
       "            </tr>\n",
       "            <tr>\n",
       "                                <td id=\"T_4b45691a_41be_11ea_9051_144f8a7a8532row2_col0\" class=\"data row2 col0\" >10</td>\n",
       "                        <td id=\"T_4b45691a_41be_11ea_9051_144f8a7a8532row2_col1\" class=\"data row2 col1\" >182</td>\n",
       "                        <td id=\"T_4b45691a_41be_11ea_9051_144f8a7a8532row2_col2\" class=\"data row2 col2\" >2</td>\n",
       "                        <td id=\"T_4b45691a_41be_11ea_9051_144f8a7a8532row2_col3\" class=\"data row2 col3\" >Kilometer</td>\n",
       "            </tr>\n",
       "            <tr>\n",
       "                                <td id=\"T_4b45691a_41be_11ea_9051_144f8a7a8532row3_col0\" class=\"data row3 col0\" >10</td>\n",
       "                        <td id=\"T_4b45691a_41be_11ea_9051_144f8a7a8532row3_col1\" class=\"data row3 col1\" >182</td>\n",
       "                        <td id=\"T_4b45691a_41be_11ea_9051_144f8a7a8532row3_col2\" class=\"data row3 col2\" >3</td>\n",
       "                        <td id=\"T_4b45691a_41be_11ea_9051_144f8a7a8532row3_col3\" class=\"data row3 col3\" >Catch You Baby (Steve Pitron & Max Sanna Radio Edit)</td>\n",
       "            </tr>\n",
       "    </tbody></table>"
      ],
      "text/plain": [
       "<pandas.io.formats.style.Styler at 0x7fa8225be748>"
      ]
     },
     "execution_count": 36,
     "metadata": {},
     "output_type": "execute_result"
    }
   ],
   "source": [
    "# to check the order\n",
    "query1 = \"SELECT userId, sessionId, itemInSession, song FROM song_by_user WHERE userId = 10 AND sessionId = 182\"\n",
    "try:\n",
    "    df = pd.DataFrame(list(session.execute(query1)))\n",
    "except Exception as e:\n",
    "    print(e)\n",
    "\n",
    "df.style.hide_index()"
   ]
  },
  {
   "cell_type": "code",
   "execution_count": 37,
   "metadata": {
    "scrolled": true
   },
   "outputs": [
    {
     "data": {
      "text/html": [
       "<style  type=\"text/css\" >\n",
       "</style><table id=\"T_5ddd89d6_41be_11ea_9051_144f8a7a8532\" ><thead>    <tr>        <th class=\"col_heading level0 col0\" >artist</th>        <th class=\"col_heading level0 col1\" >song</th>        <th class=\"col_heading level0 col2\" >firstname</th>        <th class=\"col_heading level0 col3\" >lastname</th>    </tr></thead><tbody>\n",
       "                <tr>\n",
       "                                <td id=\"T_5ddd89d6_41be_11ea_9051_144f8a7a8532row0_col0\" class=\"data row0 col0\" >Down To The Bone</td>\n",
       "                        <td id=\"T_5ddd89d6_41be_11ea_9051_144f8a7a8532row0_col1\" class=\"data row0 col1\" >Keep On Keepin' On</td>\n",
       "                        <td id=\"T_5ddd89d6_41be_11ea_9051_144f8a7a8532row0_col2\" class=\"data row0 col2\" >Sylvie</td>\n",
       "                        <td id=\"T_5ddd89d6_41be_11ea_9051_144f8a7a8532row0_col3\" class=\"data row0 col3\" >Cruz</td>\n",
       "            </tr>\n",
       "            <tr>\n",
       "                                <td id=\"T_5ddd89d6_41be_11ea_9051_144f8a7a8532row1_col0\" class=\"data row1 col0\" >Three Drives</td>\n",
       "                        <td id=\"T_5ddd89d6_41be_11ea_9051_144f8a7a8532row1_col1\" class=\"data row1 col1\" >Greece 2000</td>\n",
       "                        <td id=\"T_5ddd89d6_41be_11ea_9051_144f8a7a8532row1_col2\" class=\"data row1 col2\" >Sylvie</td>\n",
       "                        <td id=\"T_5ddd89d6_41be_11ea_9051_144f8a7a8532row1_col3\" class=\"data row1 col3\" >Cruz</td>\n",
       "            </tr>\n",
       "            <tr>\n",
       "                                <td id=\"T_5ddd89d6_41be_11ea_9051_144f8a7a8532row2_col0\" class=\"data row2 col0\" >Sebastien Tellier</td>\n",
       "                        <td id=\"T_5ddd89d6_41be_11ea_9051_144f8a7a8532row2_col1\" class=\"data row2 col1\" >Kilometer</td>\n",
       "                        <td id=\"T_5ddd89d6_41be_11ea_9051_144f8a7a8532row2_col2\" class=\"data row2 col2\" >Sylvie</td>\n",
       "                        <td id=\"T_5ddd89d6_41be_11ea_9051_144f8a7a8532row2_col3\" class=\"data row2 col3\" >Cruz</td>\n",
       "            </tr>\n",
       "            <tr>\n",
       "                                <td id=\"T_5ddd89d6_41be_11ea_9051_144f8a7a8532row3_col0\" class=\"data row3 col0\" >Lonnie Gordon</td>\n",
       "                        <td id=\"T_5ddd89d6_41be_11ea_9051_144f8a7a8532row3_col1\" class=\"data row3 col1\" >Catch You Baby (Steve Pitron & Max Sanna Radio Edit)</td>\n",
       "                        <td id=\"T_5ddd89d6_41be_11ea_9051_144f8a7a8532row3_col2\" class=\"data row3 col2\" >Sylvie</td>\n",
       "                        <td id=\"T_5ddd89d6_41be_11ea_9051_144f8a7a8532row3_col3\" class=\"data row3 col3\" >Cruz</td>\n",
       "            </tr>\n",
       "    </tbody></table>"
      ],
      "text/plain": [
       "<pandas.io.formats.style.Styler at 0x7fa82263a080>"
      ]
     },
     "execution_count": 37,
     "metadata": {},
     "output_type": "execute_result"
    }
   ],
   "source": [
    "query2 = \"SELECT artist, song, firstName, lastName FROM song_by_user WHERE userId = 10 AND sessionId = 182\"\n",
    "try:\n",
    "    df = pd.DataFrame(list(session.execute(query2)))\n",
    "except Exception as e:\n",
    "    print(e)\n",
    "    \n",
    "df[['artist', 'song', 'firstname', 'lastname']].style.hide_index()\n"
   ]
  },
  {
   "cell_type": "markdown",
   "metadata": {},
   "source": [
    "## Query 3\n",
    "![query3](./image/query3.png)  \n",
    "**Query**: Give every user name (first and last) in my music app history who listened to the song 'All Hands Against His Own'  \n",
    "\n",
    "**Reflexion**: As we search in `song` it's become the partition key and `userId` the clustering key to find `firstName` and `lastName`for a song."
   ]
  },
  {
   "cell_type": "code",
   "execution_count": 38,
   "metadata": {},
   "outputs": [],
   "source": [
    "query = \"CREATE TABLE IF NOT EXISTS user_by_song\"\n",
    "query = query + \"(song VARCHAR, userId INT, firstName VARCHAR, lastNAME VARCHAR, PRIMARY KEY(song, userId))\"\n",
    "\n",
    "try:\n",
    "    session.execute(query)\n",
    "except Exception as e:\n",
    "    print(e)                    "
   ]
  },
  {
   "cell_type": "markdown",
   "metadata": {},
   "source": [
    "![Table](./image/query3_table.png)"
   ]
  },
  {
   "cell_type": "code",
   "execution_count": 39,
   "metadata": {},
   "outputs": [],
   "source": [
    "file = 'event_datafile_new.csv'\n",
    "\n",
    "with open(file, encoding = 'utf8') as f:\n",
    "    csvreader = csv.reader(f)\n",
    "    next(csvreader) # skip header\n",
    "    for line in csvreader:\n",
    "    ## Assign INSERT statements into the `query` variable\n",
    "        query = \"INSERT INTO user_by_song(song, userId, firstName, lastName)\"\n",
    "        query = query + \"VALUES (%s, %s, %s, %s)\"\n",
    "        session.execute(query, (line[9], int(line[10]), line[1], line[4]))"
   ]
  },
  {
   "cell_type": "code",
   "execution_count": 40,
   "metadata": {},
   "outputs": [
    {
     "data": {
      "text/html": [
       "<style  type=\"text/css\" >\n",
       "</style><table id=\"T_615a964e_41be_11ea_9051_144f8a7a8532\" ><thead>    <tr>        <th class=\"col_heading level0 col0\" >firstname</th>        <th class=\"col_heading level0 col1\" >lastname</th>    </tr></thead><tbody>\n",
       "                <tr>\n",
       "                                <td id=\"T_615a964e_41be_11ea_9051_144f8a7a8532row0_col0\" class=\"data row0 col0\" >Jacqueline</td>\n",
       "                        <td id=\"T_615a964e_41be_11ea_9051_144f8a7a8532row0_col1\" class=\"data row0 col1\" >Lynch</td>\n",
       "            </tr>\n",
       "            <tr>\n",
       "                                <td id=\"T_615a964e_41be_11ea_9051_144f8a7a8532row1_col0\" class=\"data row1 col0\" >Tegan</td>\n",
       "                        <td id=\"T_615a964e_41be_11ea_9051_144f8a7a8532row1_col1\" class=\"data row1 col1\" >Levine</td>\n",
       "            </tr>\n",
       "            <tr>\n",
       "                                <td id=\"T_615a964e_41be_11ea_9051_144f8a7a8532row2_col0\" class=\"data row2 col0\" >Sara</td>\n",
       "                        <td id=\"T_615a964e_41be_11ea_9051_144f8a7a8532row2_col1\" class=\"data row2 col1\" >Johnson</td>\n",
       "            </tr>\n",
       "    </tbody></table>"
      ],
      "text/plain": [
       "<pandas.io.formats.style.Styler at 0x7fa8225be2b0>"
      ]
     },
     "execution_count": 40,
     "metadata": {},
     "output_type": "execute_result"
    }
   ],
   "source": [
    "query3 = \"SELECT firstName, lastName FROM user_by_song WHERE song='All Hands Against His Own'\"\n",
    "try:\n",
    "    df = pd.DataFrame(list(session.execute(query3)))\n",
    "except Exception as e:\n",
    "    print(e)\n",
    "\n",
    "df[['firstname', 'lastname']].style.hide_index()"
   ]
  },
  {
   "cell_type": "markdown",
   "metadata": {},
   "source": [
    "---"
   ]
  },
  {
   "cell_type": "markdown",
   "metadata": {},
   "source": [
    "### Drop the tables before closing out the sessions"
   ]
  },
  {
   "cell_type": "code",
   "execution_count": 41,
   "metadata": {},
   "outputs": [
    {
     "name": "stdout",
     "output_type": "stream",
     "text": [
      "Error from server: code=2200 [Invalid query] message=\"unconfigured table song_by_session\"\n"
     ]
    }
   ],
   "source": [
    "query1 = \"DROP TABLE song_by_session\"\n",
    "query2 = \"DROP TABLE song_by_user\"\n",
    "query3 = \"DROP TABLE user_by_song\"\n",
    "\n",
    "try:\n",
    "    rows1 = session.execute(query1)\n",
    "    rows2 = session.execute(query2)\n",
    "    rows3 = session.execute(query3)\n",
    "except Exception as e:\n",
    "    print(e)"
   ]
  },
  {
   "cell_type": "markdown",
   "metadata": {},
   "source": [
    "### Close the session and cluster connection¶"
   ]
  },
  {
   "cell_type": "code",
   "execution_count": 42,
   "metadata": {},
   "outputs": [],
   "source": [
    "session.shutdown()\n",
    "cluster.shutdown()"
   ]
  }
 ],
 "metadata": {
  "kernelspec": {
   "display_name": "Python 3",
   "language": "python",
   "name": "python3"
  },
  "language_info": {
   "codemirror_mode": {
    "name": "ipython",
    "version": 3
   },
   "file_extension": ".py",
   "mimetype": "text/x-python",
   "name": "python",
   "nbconvert_exporter": "python",
   "pygments_lexer": "ipython3",
   "version": "3.8.1"
  }
 },
 "nbformat": 4,
 "nbformat_minor": 4
}
